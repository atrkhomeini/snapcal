{
 "cells": [
  {
   "cell_type": "code",
   "execution_count": null,
   "id": "50c2876e",
   "metadata": {},
   "outputs": [],
   "source": [
    "# Connect to your Google Drive\n",
    "from google.colab import drive\n",
    "drive.mount('/content/drive')"
   ]
  },
  {
   "cell_type": "code",
   "execution_count": null,
   "id": "8c98ed74",
   "metadata": {},
   "outputs": [],
   "source": [
    "# Instal library dependencies\n",
    "%pip install -q ultralytics supervision mlflow pyngrok"
   ]
  },
  {
   "cell_type": "code",
   "execution_count": null,
   "id": "c5a57c80",
   "metadata": {},
   "outputs": [],
   "source": [
    "# === Extract Dataset ===\n",
    "# Tentukan path ke file .zip Anda di Google Drive\n",
    "ZIP_FILE_PATH = '/content/drive/MyDrive/snapcal/datasets/snapcal-1.zip'\n",
    "\n",
    "# Tentukan di mana kita akan mengekstrak dataset di lingkungan Colab (untuk kecepatan akses)\n",
    "EXTRACT_DESTINATION = '/content/dataset'\n",
    "\n",
    "print(f\"🔄 Mengekstrak {ZIP_FILE_PATH}...\")\n",
    "# Gunakan perintah 'unzip' untuk mengekstrak file. Opsi '-q' membuatnya senyap.\n",
    "!unzip -q \"{ZIP_FILE_PATH}\" -d \"{EXTRACT_DESTINATION}\"\n",
    "print(f\"✅ Dataset berhasil diekstrak ke {EXTRACT_DESTINATION}\")"
   ]
  },
  {
   "cell_type": "code",
   "execution_count": null,
   "id": "34ace1c7",
   "metadata": {},
   "outputs": [],
   "source": [
    "import os\n",
    "import mlflow\n",
    "from ultralytics import YOLO, settings\n",
    "\n",
    "# --- PERUBAHAN PENTING ---\n",
    "# Path ke file data.yaml sekarang menunjuk ke folder yang telah diekstrak di Colab\n",
    "DATASET_YAML_PATH = '/content/dataset/data.yaml'\n",
    "\n",
    "# --- Pengaturan MLflow ---\n",
    "settings.update({'mlflow': False})\n",
    "mlflow.set_tracking_uri('file:./mlruns')\n",
    "mlflow.set_experiment(\"SnapCal Component Detection - Colab\")\n",
    "\n",
    "# --- Mulai Sesi Pelatihan ---\n",
    "with mlflow.start_run() as run:\n",
    "    run_id = run.info.run_id\n",
    "    print(f\"🚀 Memulai pelatihan Colab - Run ID: {run_id}\")\n",
    "\n",
    "    # --- Parameter Pelatihan ---\n",
    "    params = {\n",
    "        \"epochs\": 50,\n",
    "        \"batch\": 16,\n",
    "        \"imgsz\": 640,\n",
    "        \"device\": 0,\n",
    "        \"amp\": True,\n",
    "        \"workers\": 2,\n",
    "        \"patience\": 10\n",
    "    }\n",
    "    mlflow.log_params(params)\n",
    "    print(f\"🎯 Parameter Pelatihan: {params}\")\n",
    "\n",
    "    # --- Muat Model & Latih ---\n",
    "    model = YOLO(\"yolov8n.pt\")\n",
    "\n",
    "    results = model.train(\n",
    "        data=DATASET_YAML_PATH,\n",
    "        **params,\n",
    "        # Simpan hasil pelatihan ke Google Drive agar tidak hilang\n",
    "        project='/content/drive/MyDrive/snapcal/training_runs',\n",
    "        name=f'run_{run_id}'\n",
    "    )\n",
    "\n",
    "    # --- Catat Metrik & Model ---\n",
    "    final_metrics = {\n",
    "        \"mAP50-95\": results.box.map,\n",
    "        \"mAP50\": results.box.map50,\n",
    "        \"precision\": results.box.mp,\n",
    "        \"recall\": results.box.mr\n",
    "    }\n",
    "    mlflow.log_metrics(final_metrics)\n",
    "    print(f\"📊 Metrik Final: {final_metrics}\")\n",
    "\n",
    "# --- Blok Kode yang Telah Diperbaiki ---\n",
    "print(\"\\n--- 💾 Menyimpan model terbaik sebagai artifact ---\")\n",
    "\n",
    "# Objek 'results' berisi path ke direktori tempat hasil pelatihan disimpan\n",
    "training_run_path = results.save_dir\n",
    "\n",
    "# Path lengkap ke file bobot model terbaik\n",
    "best_model_path = os.path.join(training_run_path, 'weights/best.pt')\n",
    "\n",
    "# Periksa apakah file tersebut ada sebelum mencatatnya\n",
    "if os.path.exists(best_model_path):\n",
    "    # Gunakan mlflow.log_artifact untuk menyimpan file apa pun.\n",
    "    # Argumen kedua, \"model\", akan menempatkannya di dalam subfolder 'model' di MLflow UI.\n",
    "    mlflow.log_artifact(best_model_path, \"model\")\n",
    "    print(f\"✅ Model terbaik dari '{best_model_path}' berhasil dicatat sebagai artifact.\")\n",
    "else:\n",
    "    print(f\"⚠️ Peringatan: File model terbaik tidak ditemukan di '{best_model_path}'.\")"
   ]
  }
 ],
 "metadata": {
  "kernelspec": {
   "display_name": "Python 3",
   "language": "python",
   "name": "python3"
  },
  "language_info": {
   "codemirror_mode": {
    "name": "ipython",
    "version": 3
   },
   "file_extension": ".py",
   "mimetype": "text/x-python",
   "name": "python",
   "nbconvert_exporter": "python",
   "pygments_lexer": "ipython3",
   "version": "3.10.12"
  }
 },
 "nbformat": 4,
 "nbformat_minor": 5
}
