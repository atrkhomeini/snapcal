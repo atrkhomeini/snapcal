{
 "cells": [
  {
   "cell_type": "code",
   "execution_count": 10,
   "id": "50c2876e",
   "metadata": {},
   "outputs": [
    {
     "ename": "ModuleNotFoundError",
     "evalue": "No module named 'ultralytics'",
     "output_type": "error",
     "traceback": [
      "\u001b[0;31m---------------------------------------------------------------------------\u001b[0m",
      "\u001b[0;31mModuleNotFoundError\u001b[0m                       Traceback (most recent call last)",
      "Cell \u001b[0;32mIn[10], line 6\u001b[0m\n\u001b[1;32m      4\u001b[0m \u001b[38;5;28;01mimport\u001b[39;00m\u001b[38;5;250m \u001b[39m\u001b[38;5;21;01myaml\u001b[39;00m\n\u001b[1;32m      5\u001b[0m \u001b[38;5;28;01mimport\u001b[39;00m\u001b[38;5;250m \u001b[39m\u001b[38;5;21;01mmlflow\u001b[39;00m\n\u001b[0;32m----> 6\u001b[0m \u001b[38;5;28;01mfrom\u001b[39;00m\u001b[38;5;250m \u001b[39m\u001b[38;5;21;01multralytics\u001b[39;00m\u001b[38;5;250m \u001b[39m\u001b[38;5;28;01mimport\u001b[39;00m YOLO\n",
      "\u001b[0;31mModuleNotFoundError\u001b[0m: No module named 'ultralytics'"
     ]
    }
   ],
   "source": [
    "import os\n",
    "from dotenv import load_dotenv\n",
    "from roboflow import Roboflow\n",
    "import yaml\n",
    "import mlflow\n",
    "from ultralytics import YOLO"
   ]
  },
  {
   "cell_type": "code",
   "execution_count": null,
   "id": "34b49d34",
   "metadata": {},
   "outputs": [
    {
     "name": "stdout",
     "output_type": "stream",
     "text": [
      "loading Roboflow workspace...\n",
      "loading Roboflow project...\n"
     ]
    },
    {
     "name": "stderr",
     "output_type": "stream",
     "text": [
      "Downloading Dataset Version Zip in snapcal-1 to yolov8:: 100%|██████████| 220948/220948 [01:58<00:00, 1864.67it/s]"
     ]
    },
    {
     "name": "stdout",
     "output_type": "stream",
     "text": [
      "\n"
     ]
    },
    {
     "name": "stderr",
     "output_type": "stream",
     "text": [
      "\n",
      "Extracting Dataset Version Zip to snapcal-1 in yolov8:: 100%|██████████| 3510/3510 [00:28<00:00, 121.63it/s]\n"
     ]
    }
   ],
   "source": [
    "# ----------- JUST RUN IT ONCE! ----------- #\n",
    "load_dotenv('../.env')\n",
    "ROBOFLOW_API_KEY = os.getenv('ROBOFLOW_API_KEY')\n",
    "rf = Roboflow(api_key=ROBOFLOW_API_KEY)\n",
    "project = rf.workspace(\"snapcal-4vbih\").project(\"snapcal-3lsxh\")\n",
    "version = project.version(1)\n",
    "dataset = version.download(\"yolov8\")\n",
    "# ----------- JUST RUN IT ONCE! ----------- #\n",
    "                "
   ]
  },
  {
   "cell_type": "code",
   "execution_count": 6,
   "id": "c5a57c80",
   "metadata": {},
   "outputs": [],
   "source": [
    "# --- Configuration ---\n",
    "DATASET_PATH_YAML = '../data/processed/dataset.yaml'"
   ]
  },
  {
   "cell_type": "code",
   "execution_count": 7,
   "id": "2a788c25",
   "metadata": {},
   "outputs": [
    {
     "ename": "NameError",
     "evalue": "name 'mlflow' is not defined",
     "output_type": "error",
     "traceback": [
      "\u001b[0;31m---------------------------------------------------------------------------\u001b[0m",
      "\u001b[0;31mNameError\u001b[0m                                 Traceback (most recent call last)",
      "Cell \u001b[0;32mIn[7], line 2\u001b[0m\n\u001b[1;32m      1\u001b[0m \u001b[38;5;66;03m# --- 1. MLflow Configuration ---\u001b[39;00m\n\u001b[0;32m----> 2\u001b[0m \u001b[43mmlflow\u001b[49m\u001b[38;5;241m.\u001b[39mset_experiment(\u001b[38;5;124m\"\u001b[39m\u001b[38;5;124mSnapCal Component Detection\u001b[39m\u001b[38;5;124m\"\u001b[39m)\n",
      "\u001b[0;31mNameError\u001b[0m: name 'mlflow' is not defined"
     ]
    }
   ],
   "source": [
    "# --- 1. MLflow Configuration ---\n",
    "mlflow.set_experiment(\"SnapCal Component Detection\")"
   ]
  },
  {
   "cell_type": "code",
   "execution_count": null,
   "id": "89c70d15",
   "metadata": {},
   "outputs": [],
   "source": [
    "# --- 2. Model Training ---\n",
    "# Start an MLflow run. Everything inside this 'with' block will be automatically logged.\n",
    "with mlflow.start_run() as run:\n",
    "    run_id = run.info.run_id\n",
    "    print(f\"Starting model training with MLflow Run ID: {run_id}\")\n",
    "\n",
    "    # --- Log Parameters ---\n",
    "    # Log key parameters that you might want to change in future experiments.\n",
    "    params = {\n",
    "        \"epochs\": 50,\n",
    "        \"batch_size\": 16,\n",
    "        \"image_size\": 640,\n",
    "        \"model_type\": \"yolov8n.pt\" # 'n' for nano, the smallest model\n",
    "    }\n",
    "    mlflow.log_params(params)\n",
    "    print(f\"Logged Parameters: {params}\")\n",
    "\n",
    "    # --- Load Pre-trained Model ---\n",
    "    # Load a pre-trained YOLOv8 model from Ultralytics.\n",
    "    # Using a pre-trained model is crucial for getting good results with a small dataset.\n",
    "    model = YOLO(params[\"model_type\"])\n",
    "\n",
    "    # --- Train the Model ---\n",
    "    # The 'train' method will handle the entire training loop, including validation.\n",
    "    results = model.train(\n",
    "        data=DATASET_YAML_PATH,\n",
    "        epochs=params[\"epochs\"],\n",
    "        batch=params[\"batch_size\"],\n",
    "        imgsz=params[\"image_size\"],\n",
    "        project=\"training_runs\", # Local folder to save Ultralytics' output\n",
    "        name=run_id # Name the output folder with the MLflow run ID for easy mapping\n",
    "    )\n",
    "\n",
    "    # --- Log Metrics ---\n",
    "    # After training, the 'results' object contains the final performance metrics.\n",
    "    # We log the most important ones to MLflow for comparison.\n",
    "    final_metrics = {\n",
    "        \"mAP50-95\": results.box.map,    # Main metric: Mean Average Precision\n",
    "        \"mAP50\": results.box.map50,      # mAP at 0.5 IoU threshold\n",
    "        \"precision\": results.box.mp,     # Mean Precision\n",
    "        \"recall\": results.box.mr       # Mean Recall\n",
    "    }\n",
    "    mlflow.log_metrics(final_metrics)\n",
    "    print(f\"Logged Final Metrics: {final_metrics}\")\n",
    "\n",
    "    # --- Log the Model as an Artifact ---\n",
    "    # This saves the trained model file (.pt) directly into the MLflow run.\n",
    "    # This is the key to versioning and deploying your models later.\n",
    "    mlflow.pytorch.log_model(model, \"model\")\n",
    "    print(\"Trained model has been logged as an artifact.\")\n",
    "\n",
    "    print(\"\\n--- Training complete and all results logged to MLflow! ---\")"
   ]
  }
 ],
 "metadata": {
  "kernelspec": {
   "display_name": "Python 3",
   "language": "python",
   "name": "python3"
  },
  "language_info": {
   "codemirror_mode": {
    "name": "ipython",
    "version": 3
   },
   "file_extension": ".py",
   "mimetype": "text/x-python",
   "name": "python",
   "nbconvert_exporter": "python",
   "pygments_lexer": "ipython3",
   "version": "3.10.18"
  }
 },
 "nbformat": 4,
 "nbformat_minor": 5
}
